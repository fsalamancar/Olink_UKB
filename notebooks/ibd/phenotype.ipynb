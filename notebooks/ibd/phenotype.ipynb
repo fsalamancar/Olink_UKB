{
 "cells": [
  {
   "cell_type": "markdown",
   "id": "7bbe509f",
   "metadata": {
    "vscode": {
     "languageId": "plaintext"
    }
   },
   "source": [
    "# Phenotype analysis"
   ]
  },
  {
   "cell_type": "code",
   "execution_count": 2,
   "id": "6d130169",
   "metadata": {},
   "outputs": [],
   "source": [
    "# Import packages\n",
    "\n",
    "from covariableSelection.data.load import load_tsv\n",
    "from covariableSelection.data.preprocesing import select_first_cohort\n",
    "# from covariableSelection.data.preprocess import preprocess\n",
    "# from covariableSelection.data.split import split\n",
    "# from covariableSelection.data.transform import transform\n"
   ]
  },
  {
   "cell_type": "code",
   "execution_count": 3,
   "id": "1b7fd6aa",
   "metadata": {},
   "outputs": [],
   "source": [
    "input_path = \"../../data/raw/phenotype/\"\n",
    "output_path = \"../../data/processed/phenotype/\""
   ]
  },
  {
   "cell_type": "markdown",
   "id": "72fa30f0",
   "metadata": {},
   "source": [
    "Load phenotype data."
   ]
  },
  {
   "cell_type": "code",
   "execution_count": 4,
   "id": "60c45091",
   "metadata": {},
   "outputs": [
    {
     "name": "stdout",
     "output_type": "stream",
     "text": [
      "Looking for file at: ../../data/raw/phenotype/phenotype_data.tsv\n",
      "File loaded: 502180 rows × 156 columns\n",
      "File loaded: 502180 rows × 156 columns\n"
     ]
    }
   ],
   "source": [
    "phenotype_df = load_tsv( input_path, \"phenotype_data.tsv\")\n",
    "\n",
    "phenotype_df.head()\n",
    "\n",
    "#Rename f_ide column into eid\n",
    "phenotype_df = phenotype_df.rename(columns={\"f_ide\": \"eid\"})\n",
    "\n",
    "#phenotype_df.shape"
   ]
  },
  {
   "cell_type": "code",
   "execution_count": 5,
   "id": "e3d6cdbd",
   "metadata": {},
   "outputs": [
    {
     "name": "stdout",
     "output_type": "stream",
     "text": [
      "Looking for file at: ../../data/raw/phenotype/phenotype_chars.tsv\n",
      "File loaded: 87 rows × 17 columns\n"
     ]
    },
    {
     "data": {
      "text/html": [
       "<div>\n",
       "<style scoped>\n",
       "    .dataframe tbody tr th:only-of-type {\n",
       "        vertical-align: middle;\n",
       "    }\n",
       "\n",
       "    .dataframe tbody tr th {\n",
       "        vertical-align: top;\n",
       "    }\n",
       "\n",
       "    .dataframe thead th {\n",
       "        text-align: right;\n",
       "    }\n",
       "</style>\n",
       "<table border=\"1\" class=\"dataframe\">\n",
       "  <thead>\n",
       "    <tr style=\"text-align: right;\">\n",
       "      <th></th>\n",
       "      <th>Field</th>\n",
       "      <th>FieldID</th>\n",
       "      <th>ValueType</th>\n",
       "      <th>Coding</th>\n",
       "      <th>Category</th>\n",
       "      <th>Participants</th>\n",
       "      <th>Items</th>\n",
       "      <th>Stability</th>\n",
       "      <th>Units</th>\n",
       "      <th>ItemType</th>\n",
       "      <th>Strata</th>\n",
       "      <th>Sexed</th>\n",
       "      <th>Instances</th>\n",
       "      <th>Array</th>\n",
       "      <th>Notes</th>\n",
       "      <th>Link</th>\n",
       "      <th>Path</th>\n",
       "    </tr>\n",
       "  </thead>\n",
       "  <tbody>\n",
       "    <tr>\n",
       "      <th>0</th>\n",
       "      <td>Current tobacco smoking</td>\n",
       "      <td>1239</td>\n",
       "      <td>Categorical single</td>\n",
       "      <td>100347.0</td>\n",
       "      <td>100058</td>\n",
       "      <td>501500</td>\n",
       "      <td>597678</td>\n",
       "      <td>Complete</td>\n",
       "      <td>NaN</td>\n",
       "      <td>Data</td>\n",
       "      <td>Primary</td>\n",
       "      <td>Unisex</td>\n",
       "      <td>4</td>\n",
       "      <td>1</td>\n",
       "      <td>ACE touchscreen question \"\"\"\"Do you smoke toba...</td>\n",
       "      <td>http://biobank.ndph.ox.ac.uk/ukb/field.cgi?id=...</td>\n",
       "      <td>Assessment centre &gt; Touchscreen &gt; Lifestyle an...</td>\n",
       "    </tr>\n",
       "    <tr>\n",
       "      <th>1</th>\n",
       "      <td>Past tobacco smoking</td>\n",
       "      <td>1249</td>\n",
       "      <td>Categorical single</td>\n",
       "      <td>100348.0</td>\n",
       "      <td>100058</td>\n",
       "      <td>464200</td>\n",
       "      <td>556298</td>\n",
       "      <td>Complete</td>\n",
       "      <td>NaN</td>\n",
       "      <td>Data</td>\n",
       "      <td>Primary</td>\n",
       "      <td>Unisex</td>\n",
       "      <td>4</td>\n",
       "      <td>1</td>\n",
       "      <td>ACE touchscreen question \"\"\"\"In the past, how ...</td>\n",
       "      <td>http://biobank.ndph.ox.ac.uk/ukb/field.cgi?id=...</td>\n",
       "      <td>Assessment centre &gt; Touchscreen &gt; Lifestyle an...</td>\n",
       "    </tr>\n",
       "    <tr>\n",
       "      <th>2</th>\n",
       "      <td>Smoking/smokers in household</td>\n",
       "      <td>1259</td>\n",
       "      <td>Categorical single</td>\n",
       "      <td>100370.0</td>\n",
       "      <td>100058</td>\n",
       "      <td>461855</td>\n",
       "      <td>552928</td>\n",
       "      <td>Complete</td>\n",
       "      <td>NaN</td>\n",
       "      <td>Data</td>\n",
       "      <td>Primary</td>\n",
       "      <td>Unisex</td>\n",
       "      <td>4</td>\n",
       "      <td>1</td>\n",
       "      <td>ACE touchscreen question \"\"\"\"Does anyone in yo...</td>\n",
       "      <td>http://biobank.ndph.ox.ac.uk/ukb/field.cgi?id=...</td>\n",
       "      <td>Assessment centre &gt; Touchscreen &gt; Lifestyle an...</td>\n",
       "    </tr>\n",
       "    <tr>\n",
       "      <th>3</th>\n",
       "      <td>Exposure to tobacco smoke at home</td>\n",
       "      <td>1269</td>\n",
       "      <td>Integer</td>\n",
       "      <td>100291.0</td>\n",
       "      <td>100058</td>\n",
       "      <td>464571</td>\n",
       "      <td>556698</td>\n",
       "      <td>Complete</td>\n",
       "      <td>hours/week</td>\n",
       "      <td>Data</td>\n",
       "      <td>Primary</td>\n",
       "      <td>Unisex</td>\n",
       "      <td>4</td>\n",
       "      <td>1</td>\n",
       "      <td>ACE touchscreen question \"\"\"\"At home, about ho...</td>\n",
       "      <td>http://biobank.ndph.ox.ac.uk/ukb/field.cgi?id=...</td>\n",
       "      <td>Assessment centre &gt; Touchscreen &gt; Lifestyle an...</td>\n",
       "    </tr>\n",
       "    <tr>\n",
       "      <th>4</th>\n",
       "      <td>Exposure to tobacco smoke outside home</td>\n",
       "      <td>1279</td>\n",
       "      <td>Integer</td>\n",
       "      <td>100291.0</td>\n",
       "      <td>100058</td>\n",
       "      <td>464571</td>\n",
       "      <td>556698</td>\n",
       "      <td>Complete</td>\n",
       "      <td>hours/week</td>\n",
       "      <td>Data</td>\n",
       "      <td>Primary</td>\n",
       "      <td>Unisex</td>\n",
       "      <td>4</td>\n",
       "      <td>1</td>\n",
       "      <td>ACE touchscreen question \"\"\"\"Outside of your h...</td>\n",
       "      <td>http://biobank.ndph.ox.ac.uk/ukb/field.cgi?id=...</td>\n",
       "      <td>Assessment centre &gt; Touchscreen &gt; Lifestyle an...</td>\n",
       "    </tr>\n",
       "  </tbody>\n",
       "</table>\n",
       "</div>"
      ],
      "text/plain": [
       "                                    Field  FieldID           ValueType  \\\n",
       "0                 Current tobacco smoking     1239  Categorical single   \n",
       "1                    Past tobacco smoking     1249  Categorical single   \n",
       "2            Smoking/smokers in household     1259  Categorical single   \n",
       "3       Exposure to tobacco smoke at home     1269             Integer   \n",
       "4  Exposure to tobacco smoke outside home     1279             Integer   \n",
       "\n",
       "     Coding  Category  Participants   Items Stability       Units ItemType  \\\n",
       "0  100347.0    100058        501500  597678  Complete         NaN     Data   \n",
       "1  100348.0    100058        464200  556298  Complete         NaN     Data   \n",
       "2  100370.0    100058        461855  552928  Complete         NaN     Data   \n",
       "3  100291.0    100058        464571  556698  Complete  hours/week     Data   \n",
       "4  100291.0    100058        464571  556698  Complete  hours/week     Data   \n",
       "\n",
       "    Strata   Sexed  Instances  Array  \\\n",
       "0  Primary  Unisex          4      1   \n",
       "1  Primary  Unisex          4      1   \n",
       "2  Primary  Unisex          4      1   \n",
       "3  Primary  Unisex          4      1   \n",
       "4  Primary  Unisex          4      1   \n",
       "\n",
       "                                               Notes  \\\n",
       "0  ACE touchscreen question \"\"\"\"Do you smoke toba...   \n",
       "1  ACE touchscreen question \"\"\"\"In the past, how ...   \n",
       "2  ACE touchscreen question \"\"\"\"Does anyone in yo...   \n",
       "3  ACE touchscreen question \"\"\"\"At home, about ho...   \n",
       "4  ACE touchscreen question \"\"\"\"Outside of your h...   \n",
       "\n",
       "                                                Link  \\\n",
       "0  http://biobank.ndph.ox.ac.uk/ukb/field.cgi?id=...   \n",
       "1  http://biobank.ndph.ox.ac.uk/ukb/field.cgi?id=...   \n",
       "2  http://biobank.ndph.ox.ac.uk/ukb/field.cgi?id=...   \n",
       "3  http://biobank.ndph.ox.ac.uk/ukb/field.cgi?id=...   \n",
       "4  http://biobank.ndph.ox.ac.uk/ukb/field.cgi?id=...   \n",
       "\n",
       "                                                Path  \n",
       "0  Assessment centre > Touchscreen > Lifestyle an...  \n",
       "1  Assessment centre > Touchscreen > Lifestyle an...  \n",
       "2  Assessment centre > Touchscreen > Lifestyle an...  \n",
       "3  Assessment centre > Touchscreen > Lifestyle an...  \n",
       "4  Assessment centre > Touchscreen > Lifestyle an...  "
      ]
     },
     "execution_count": 5,
     "metadata": {},
     "output_type": "execute_result"
    }
   ],
   "source": [
    "phenotype_chars_df = load_tsv( input_path, \"phenotype_chars.tsv\", skiprows=5)\n",
    "\n",
    "phenotype_chars_df.head()"
   ]
  },
  {
   "cell_type": "code",
   "execution_count": 6,
   "id": "4d6b296a",
   "metadata": {},
   "outputs": [
    {
     "name": "stdout",
     "output_type": "stream",
     "text": [
      "Looking for file at: ../../data/raw/phenotype/phenotype_cbkeys.tsv\n",
      "File loaded: 244 rows × 6 columns\n"
     ]
    },
    {
     "data": {
      "text/html": [
       "<div>\n",
       "<style scoped>\n",
       "    .dataframe tbody tr th:only-of-type {\n",
       "        vertical-align: middle;\n",
       "    }\n",
       "\n",
       "    .dataframe tbody tr th {\n",
       "        vertical-align: top;\n",
       "    }\n",
       "\n",
       "    .dataframe thead th {\n",
       "        text-align: right;\n",
       "    }\n",
       "</style>\n",
       "<table border=\"1\" class=\"dataframe\">\n",
       "  <thead>\n",
       "    <tr style=\"text-align: right;\">\n",
       "      <th></th>\n",
       "      <th>coding_name</th>\n",
       "      <th>code</th>\n",
       "      <th>meaning</th>\n",
       "      <th>concept</th>\n",
       "      <th>display_order</th>\n",
       "      <th>parent_code</th>\n",
       "    </tr>\n",
       "  </thead>\n",
       "  <tbody>\n",
       "    <tr>\n",
       "      <th>0</th>\n",
       "      <td>7</td>\n",
       "      <td>1</td>\n",
       "      <td>Yes</td>\n",
       "      <td>NaN</td>\n",
       "      <td>1</td>\n",
       "      <td>NaN</td>\n",
       "    </tr>\n",
       "    <tr>\n",
       "      <th>1</th>\n",
       "      <td>7</td>\n",
       "      <td>0</td>\n",
       "      <td>No</td>\n",
       "      <td>NaN</td>\n",
       "      <td>2</td>\n",
       "      <td>NaN</td>\n",
       "    </tr>\n",
       "    <tr>\n",
       "      <th>2</th>\n",
       "      <td>100291</td>\n",
       "      <td>-1</td>\n",
       "      <td>Do not know</td>\n",
       "      <td>NaN</td>\n",
       "      <td>1</td>\n",
       "      <td>NaN</td>\n",
       "    </tr>\n",
       "    <tr>\n",
       "      <th>3</th>\n",
       "      <td>100291</td>\n",
       "      <td>-3</td>\n",
       "      <td>Prefer not to answer</td>\n",
       "      <td>NaN</td>\n",
       "      <td>2</td>\n",
       "      <td>NaN</td>\n",
       "    </tr>\n",
       "    <tr>\n",
       "      <th>4</th>\n",
       "      <td>100347</td>\n",
       "      <td>1</td>\n",
       "      <td>Yes, on most or all days</td>\n",
       "      <td>NaN</td>\n",
       "      <td>1</td>\n",
       "      <td>NaN</td>\n",
       "    </tr>\n",
       "  </tbody>\n",
       "</table>\n",
       "</div>"
      ],
      "text/plain": [
       "   coding_name  code                   meaning  concept  display_order  \\\n",
       "0            7     1                       Yes      NaN              1   \n",
       "1            7     0                        No      NaN              2   \n",
       "2       100291    -1               Do not know      NaN              1   \n",
       "3       100291    -3      Prefer not to answer      NaN              2   \n",
       "4       100347     1  Yes, on most or all days      NaN              1   \n",
       "\n",
       "   parent_code  \n",
       "0          NaN  \n",
       "1          NaN  \n",
       "2          NaN  \n",
       "3          NaN  \n",
       "4          NaN  "
      ]
     },
     "execution_count": 6,
     "metadata": {},
     "output_type": "execute_result"
    }
   ],
   "source": [
    "phenotype_key_df = load_tsv( input_path, \"phenotype_cbkeys.tsv\")\n",
    "\n",
    "phenotype_key_df.head()"
   ]
  },
  {
   "cell_type": "markdown",
   "id": "0e71cf07",
   "metadata": {},
   "source": [
    "## Preprocessing data"
   ]
  },
  {
   "cell_type": "markdown",
   "id": "d17a8b9e",
   "metadata": {},
   "source": [
    "Select first cohort only."
   ]
  },
  {
   "cell_type": "code",
   "execution_count": 7,
   "id": "3ddf917d",
   "metadata": {},
   "outputs": [],
   "source": [
    "phenotype_df = select_first_cohort(phenotype_df)"
   ]
  }
 ],
 "metadata": {
  "kernelspec": {
   "display_name": "Python 3",
   "language": "python",
   "name": "python3"
  },
  "language_info": {
   "codemirror_mode": {
    "name": "ipython",
    "version": 3
   },
   "file_extension": ".py",
   "mimetype": "text/x-python",
   "name": "python",
   "nbconvert_exporter": "python",
   "pygments_lexer": "ipython3",
   "version": "3.13.7"
  }
 },
 "nbformat": 4,
 "nbformat_minor": 5
}
